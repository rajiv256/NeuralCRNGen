{
 "cells": [
  {
   "cell_type": "code",
   "execution_count": 10,
   "metadata": {},
   "outputs": [
    {
     "data": {
      "text/plain": [
       "neuralode (generic function with 1 method)"
      ]
     },
     "metadata": {},
     "output_type": "display_data"
    }
   ],
   "source": [
    "using Pkg\n",
    "# Pkg.add(\"ReactionNetworkImporters\")\n",
    "# Pkg.add(\"Dictionaries\")\n",
    "# Pkg.add(\"LaTeXStrings\")\n",
    "# Pkg.add(\"Statistics\")\n",
    "# Pkg.add(\"ColorSchemes\")\n",
    "# Pkg.add(\"IterTools\");\n",
    "\n",
    "using DifferentialEquations\n",
    "using Random\n",
    "using Plots\n",
    "using Formatting\n",
    "using LinearAlgebra\n",
    "using Noise\n",
    "using ReactionNetworkImporters\n",
    "using Dictionaries\n",
    "using LaTeXStrings\n",
    "using Statistics\n",
    "using ColorSchemes\n",
    "using Catalyst\n",
    "using IterTools\n",
    "\n",
    "include(\"datasets.jl\")\n",
    "include(\"utils.jl\")\n",
    "include(\"reactions2D.jl\")\n",
    "include(\"neuralode.jl\")\n"
   ]
  },
  {
   "cell_type": "code",
   "execution_count": 11,
   "metadata": {},
   "outputs": [
    {
     "data": {
      "text/plain": [
       "_filter_rn_species (generic function with 1 method)"
      ]
     },
     "metadata": {},
     "output_type": "display_data"
    }
   ],
   "source": [
    "function _convert_species2var(sp)\n",
    "    ret = string(sp)\n",
    "    ret = replace(ret, \"(t)\" => \"\")\n",
    "    return ret\n",
    "end\n",
    "\n",
    "\n",
    "# Verified: @show _index2param(\"P\", 3, -3.0)\n",
    "function _index2Dvar(sym, index, val; dims=2)\n",
    "    second = (index - 1) % dims + 1\n",
    "    first = (index - 1) ÷ dims + 1\n",
    "    return Dict(\n",
    "        \"$(sym)$(first)$(second)p\" => max(0, val),\n",
    "        \"$(sym)$(first)$(second)m\" => max(0, -val)\n",
    "    )\n",
    "end\n",
    "\n",
    "\n",
    "function _index1Dvar(sym, index, val; dims=2)\n",
    "    return Dict(\n",
    "        \"$sym$(index)p\" => max(0.0, val),\n",
    "        \"$sym$(index)m\" => max(0.0, -val)\n",
    "    )\n",
    "end\n",
    "\n",
    "\n",
    "function _prepare_u(rn, vars)\n",
    "    ss = species(rn)\n",
    "    uvalues = [vars[_convert_species2var(sp)] for sp in ss]\n",
    "    u = Pair.(ss, uvalues)\n",
    "    return u\n",
    "end\n",
    "\n",
    "\n",
    "function _print_vars(vars, prefix; title=\"\")\n",
    "    println(title, \"---------------\")\n",
    "    Xvars = [k for k in keys(vars) if startswith(k, prefix)]\n",
    "    sort!(Xvars)\n",
    "    for xvp in Xvars\n",
    "        if endswith(xvp, \"p\")\n",
    "            xvm = replace(xvp, \"p\" => \"m\")\n",
    "            println(\"$xvp: $(vars[xvp]) | $xvm: $(vars[xvm]) | $(vars[xvp] - vars[xvm])\")\n",
    "        end\n",
    "\n",
    "    end\n",
    "    # println(\"CRN | Title: \", title, \" | Prefix: \", prefix)\n",
    "    # Pspecies = [k for k in keys(vars) if startswith(k, prefix)]\n",
    "    # sort!(Pspecies)\n",
    "    # for psp in Pspecies\n",
    "    #     println(psp, \": \", vars[psp], \" | \")\n",
    "    # end\n",
    "    # println(\"-------------\")\n",
    "end\n",
    "\n",
    "\n",
    "\n",
    "function _filter_rn_species(rn; prefix=\"Z\")\n",
    "    ss = species(rn)\n",
    "    xs = filter(x->startswith(string(x), prefix), ss)\n",
    "    return xs\n",
    "end"
   ]
  },
  {
   "cell_type": "code",
   "execution_count": 14,
   "metadata": {},
   "outputs": [
    {
     "data": {
      "text/plain": [
       "crn_dual_node_fwd (generic function with 1 method)"
      ]
     },
     "metadata": {},
     "output_type": "display_data"
    }
   ],
   "source": [
    "function crn_dual_node_fwd(vars; tspan=(0.0, 1.0))\n",
    "    u = _prepare_u(rn_dual_node_fwd, vars)\n",
    "    p = []\n",
    "    @show u\n",
    "    sol = simulate_reaction_network(rn_dual_node_fwd, u, p, tspan=tspan)\n",
    "    # First update the Z species \n",
    "    Zspecies = _filter_rn_species(rn_dual_node_fwd, prefix=\"Z\")\n",
    "    for i in eachindex(Zspecies)\n",
    "        vars[_convert_species2var(Zspecies[i])] = sol[end][i]\n",
    "    end\n",
    "    _print_vars(vars, \"Z\", title=\"CRN | z at t=T |\")\n",
    "    return sol\n",
    "end\n"
   ]
  },
  {
   "cell_type": "code",
   "execution_count": 19,
   "metadata": {},
   "outputs": [
    {
     "name": "stdout",
     "output_type": "stream",
     "text": [
      "nneg: 44 npos: 56nneg: 22 npos: 18ODE | Input: [-0.1077658803024611, -0.23979584149967573] | Target: 0.0\n",
      "params before | Any[0.0170054417, 2.244159622, -0.2516677402, 0.2833236587, 0.0, 1.0, -0.7535499601, 0.226244532]\n",
      "ODE | w at t=0 | Any[-0.7535499601, 0.226244532]\n",
      "ODE | z at t=T | [-0.6471685752434628; -0.21093638376668616;;]\n",
      "ODE | yhat at t=T | 0.43995065062561894\n",
      "ODE | Adjoint at t=T | [-0.3315247952249042; 0.09953642905388867;;]\n",
      "ODE | Gradients at t=T | [0.0; 0.0; 0.0; 0.0;;]\n",
      "ODE | Adjoint at t=0 | [-0.26436324536693945, -0.6883657201251144]\n",
      "ODE | Gradients at t=0 |  [0.1232698484870147, 0.07461591383895802, 0.07395890522780879, 0.07028672651061718]\n",
      "ODE | Final layer gradients | [-0.2847222357428163; -0.09280159927876883;;]\n",
      "ODE | gradients | [0.1232698484870147, 0.07461591383895802, 0.07395890522780879, 0.07028672651061718, -0.17084710120263694, -0.17084710120263694, -0.2847222357428163, -0.09280159927876883]\n",
      "params | Any[0.016882171851512983, 2.244085006086161, -0.2517416991052278, 0.2832533719734894, 0.0, 1.0, -0.7532652378642571, 0.22633733359927877]\n",
      "===============================\n",
      "x = [-0.1077658803024611, -0.23979584149967573]\n",
      "u = Pair{Term{Real, Base.ImmutableDict{DataType, Any}}, Float64}[Z1p(t) => 0.0, P11p(t) => 0.016882171851512983, Z1m(t) => 0.1077658803024611, P11m(t) => 0.0, Z2p(t) => 0.0, P12p(t) => 2.244085006086161, Z2m(t) => 0.23979584149967573, P12m(t) => 0.0, P21p(t) => 0.0, P21m(t) => 0.2517416991052278, P22p(t) => 0.2832533719734894, P22m(t) => 0.0]\n",
      "CRN | z at t=T |---------------\n",
      "Z1p: 0.09292857721140556 | Z1m: 0.016882171851512983 | 0.07604640535989257\n",
      "Z2p: 0.73999110853021 | Z2m: 0.0 | 0.73999110853021\n",
      "1\n",
      "2"
     ]
    },
    {
     "name": "stdout",
     "output_type": "stream",
     "text": [
      "\n",
      "3\n",
      "4\n",
      "5\n",
      "6\n",
      "7\n",
      "8\n",
      "9\n",
      "10\n",
      "11\n",
      "12\n"
     ]
    }
   ],
   "source": [
    "function crn_main(params, train, val; dims=2, EPOCHS=10, LR=0.001, tspan=(0.0, 1.0))\n",
    "    # Initialize a dictionary to track concentrations of all the species\n",
    "    vars = Dict();\n",
    "\n",
    "    # Get all the involved CRNs and add their species to the vars\n",
    "    crns = [rn_dual_node_fwd, rn_dual_backprop, rn_param_update, rn_final_layer_update, rn_annihilation_reactions]    \n",
    "    for crn in crns\n",
    "        for sp in species(crn)\n",
    "            get!(vars, _convert_species2var(sp), 0.0)\n",
    "        end\n",
    "    end\n",
    "    \n",
    "    # Assign the values of the parameters\n",
    "    for param_index in 1:dims^2\n",
    "        d = _index2Dvar(\"P\", param_index, params[param_index], dims=dims)\n",
    "        for (k,v) in d\n",
    "            vars[k] = v\n",
    "        end\n",
    "    end\n",
    "\n",
    "    # Adding time species, although we don't manipulate them now\n",
    "    vars[\"T0\"] = 0.0\n",
    "    vars[\"T1\"] = 1.0\n",
    "\n",
    "    # Assign the weight parameters\n",
    "    offset = dims^2 + 2  # 2 for t0 and t1\n",
    "    for param_index in (offset+1):length(params)\n",
    "        d = _index1Dvar(\"W\", param_index-offset, params[param_index], dims=dims)\n",
    "        for (k,v) in d\n",
    "            vars[k] = v\n",
    "        end\n",
    "    end\n",
    "\n",
    "    tr_losses = []\n",
    "    for epoch in 1:EPOCHS\n",
    "        tr_epoch_loss = 0.0\n",
    "        for i in eachindex(train)\n",
    "            x, y = get_one(train, i)\n",
    "            x = augment(x, dims-length(x))\n",
    "            yvec = [y 1-y]\n",
    "            @show x\n",
    "            for i in eachindex(x)\n",
    "                d = _index1Dvar(\"Z\", i, x[i], dims=dims)\n",
    "                for (k,v) in d\n",
    "                    vars[k] = v\n",
    "                end\n",
    "            end\n",
    "            # Forward stage\n",
    "            sol = crn_dual_node_fwd(vars, tspan=tspan)\n",
    "            \n",
    "            ss = species(rn_dual_node_fwd)\n",
    "            for si in eachindex(ss)\n",
    "                println(si)\n",
    "                if startswith(string(ss[si]), \"Z\")\n",
    "                    plt = plot!(sol[si])\n",
    "                    png(plt, \"Z.png\")\n",
    "                end\n",
    "            end\n",
    "            \n",
    "        end\n",
    "    end\n",
    "end\n",
    "\n",
    "function neuralcrn(;DIMS=2)\n",
    "    train = create_linearly_separable_dataset(100, linear, threshold=0.0)\n",
    "    val = create_linearly_separable_dataset(40, linear, threshold=0.0)\n",
    "    params_orig = create_node_params(DIMS, t0=0.0, t1=1.0)\n",
    "    node_main(params_orig, train[1:1], [], EPOCHS=1)\n",
    "    println(\"===============================\")\n",
    "    crn_main(params_orig, train[1:1], [], EPOCHS=1, tspan=(0.0, 1.0))\n",
    "end\n",
    "\n",
    "neuralcrn()"
   ]
  },
  {
   "cell_type": "code",
   "execution_count": 28,
   "metadata": {},
   "outputs": [],
   "source": []
  },
  {
   "cell_type": "code",
   "execution_count": 20,
   "metadata": {},
   "outputs": [],
   "source": []
  },
  {
   "cell_type": "code",
   "execution_count": null,
   "metadata": {},
   "outputs": [],
   "source": []
  }
 ],
 "metadata": {
  "kernelspec": {
   "display_name": "Julia 1.8.2",
   "language": "julia",
   "name": "julia-1.8"
  },
  "language_info": {
   "file_extension": ".jl",
   "mimetype": "application/julia",
   "name": "julia",
   "version": "1.8.2"
  },
  "orig_nbformat": 4
 },
 "nbformat": 4,
 "nbformat_minor": 2
}
