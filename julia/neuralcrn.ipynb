{
 "cells": [
  {
   "cell_type": "code",
   "execution_count": 1,
   "metadata": {},
   "outputs": [],
   "source": [
    "using Catalyst\n",
    "using ColorSchemes\n",
    "using Dictionaries\n",
    "using DifferentialEquations\n",
    "using Formatting\n",
    "using IterTools\n",
    "using LaTeXStrings\n",
    "using LinearAlgebra\n",
    "using NNlib\n",
    "using Noise\n",
    "using Pkg\n",
    "using Plots\n",
    "using Random\n",
    "using ReactionNetworkImporters\n",
    "using Statistics\n",
    "\n",
    "nothing"
   ]
  },
  {
   "cell_type": "code",
   "execution_count": 2,
   "metadata": {},
   "outputs": [
    {
     "ename": "LoadError",
     "evalue": "LoadError: @reaction_network notation where parameters are declared after \"end\", e.g. like:\n\n```julia\n@reaction_network begin\n    p, 0 --> X\n    d, X --> 0\nend p d\n```\n\nhas been deprecated in favor of a notation where the parameters are inferred, e.g:\n\n```julia\n@reaction_network begin\n    p, 0 --> X\n    d, X --> 0\nend\n```\n\nParameters and species can be explicitly indicated using the @parameters and @species\nmacros, e.g:\n\n```julia\n@reaction_network begin\n    @parameters p d\n    @species X(t)\n    p, 0 --> X\n    d, X --> 0\nend\n```\n\nin expression starting at /Users/rajiv/Desktop/PhD/neural-ode/NeuralCRNGen/julia/reactionsReLU.jl:393\nin expression starting at /Users/rajiv/Desktop/PhD/neural-ode/NeuralCRNGen/julia/reactionsReLU.jl:393",
     "output_type": "error",
     "traceback": [
      "LoadError: @reaction_network notation where parameters are declared after \"end\", e.g. like:\n",
      "\n",
      "```julia\n",
      "@reaction_network begin\n",
      "    p, 0 --> X\n",
      "    d, X --> 0\n",
      "end p d\n",
      "```\n",
      "\n",
      "has been deprecated in favor of a notation where the parameters are inferred, e.g:\n",
      "\n",
      "```julia\n",
      "@reaction_network begin\n",
      "    p, 0 --> X\n",
      "    d, X --> 0\n",
      "end\n",
      "```\n",
      "\n",
      "Parameters and species can be explicitly indicated using the @parameters and @species\n",
      "macros, e.g:\n",
      "\n",
      "```julia\n",
      "@reaction_network begin\n",
      "    @parameters p d\n",
      "    @species X(t)\n",
      "    p, 0 --> X\n",
      "    d, X --> 0\n",
      "end\n",
      "```\n",
      "\n",
      "in expression starting at /Users/rajiv/Desktop/PhD/neural-ode/NeuralCRNGen/julia/reactionsReLU.jl:393\n",
      "in expression starting at /Users/rajiv/Desktop/PhD/neural-ode/NeuralCRNGen/julia/reactionsReLU.jl:393\n",
      "\n",
      "Stacktrace:\n",
      " [1] error(s::String)\n",
      "   @ Base ./error.jl:35\n",
      " [2] var\"@reaction_network\"(__source__::LineNumberNode, __module__::Module, name::Symbol, ex::Expr, parameters::Vararg{Any})\n",
      "   @ Catalyst ~/.julia/packages/Catalyst/quz1b/src/reaction_network.jl:34\n",
      " [3] include(fname::String)\n",
      "   @ Base.MainInclude ./client.jl:489\n",
      " [4] top-level scope\n",
      "   @ ~/Desktop/PhD/neural-ode/NeuralCRNGen/julia/neuralcrn.ipynb:3"
     ]
    }
   ],
   "source": [
    "include(\"datasets.jl\")\n",
    "include(\"utils.jl\")\n",
    "include(\"reactionsReLU.jl\")\n",
    "include(\"neuralode.jl\")\n",
    "include(\"neuralcrn.jl\")\n",
    "nothing"
   ]
  },
  {
   "cell_type": "code",
   "execution_count": 3,
   "metadata": {},
   "outputs": [
    {
     "name": "stderr",
     "output_type": "stream",
     "text": [
      "WARNING: both Symbolics and ModelingToolkit export \"infimum\"; uses of it in module Catalyst must be qualified\n",
      "WARNING: both Symbolics and ModelingToolkit export \"supremum\"; uses of it in module Catalyst must be qualified\n"
     ]
    },
    {
     "data": {
      "text/plain": [
       "_filter_rn_species (generic function with 1 method)"
      ]
     },
     "metadata": {},
     "output_type": "display_data"
    }
   ],
   "source": [
    "function _convert_species2var(sp)\n",
    "    ret = string(sp)\n",
    "    ret = replace(ret, \"(t)\" => \"\")\n",
    "    return ret\n",
    "end\n",
    "\n",
    "\n",
    "# Verified: @show _index2param(\"P\", 3, -3.0)\n",
    "function _index2Dvar(sym, index, val; dims=2)\n",
    "    second = (index - 1) % dims + 1\n",
    "    first = (index - 1) ÷ dims + 1\n",
    "    return Dict(\n",
    "        \"$(sym)$(first)$(second)p\" => max(0, val),\n",
    "        \"$(sym)$(first)$(second)m\" => max(0, -val)\n",
    "    )\n",
    "end\n",
    "\n",
    "\n",
    "function _index1Dvar(sym, index, val; dims=2)\n",
    "    return Dict(\n",
    "        \"$sym$(index)p\" => max(0.0, val),\n",
    "        \"$sym$(index)m\" => max(0.0, -val)\n",
    "    )\n",
    "end\n",
    "\n",
    "\n",
    "function _prepare_u(rn, vars)\n",
    "    ss = species(rn)\n",
    "    uvalues = [vars[_convert_species2var(sp)] for sp in ss]\n",
    "    u = Pair.(ss, uvalues)\n",
    "    return u\n",
    "end\n",
    "\n",
    "\n",
    "function _print_vars(vars, prefix; title=\"\")\n",
    "    println(title, \"---------------\")\n",
    "    Xvars = [k for k in keys(vars) if startswith(k, prefix)]\n",
    "    sort!(Xvars)\n",
    "    for xvp in Xvars\n",
    "        if endswith(xvp, \"p\")\n",
    "            xvm = replace(xvp, \"p\" => \"m\")\n",
    "            println(\"$xvp: $(vars[xvp]) | $xvm: $(vars[xvm]) | $(vars[xvp] - vars[xvm])\")\n",
    "        end\n",
    "\n",
    "    end\n",
    "    # println(\"CRN | Title: \", title, \" | Prefix: \", prefix)\n",
    "    # Pspecies = [k for k in keys(vars) if startswith(k, prefix)]\n",
    "    # sort!(Pspecies)\n",
    "    # for psp in Pspecies\n",
    "    #     println(psp, \": \", vars[psp], \" | \")\n",
    "    # end\n",
    "    # println(\"-------------\")\n",
    "end\n",
    "\n",
    "\n",
    "\n",
    "function _filter_rn_species(rn; prefix=\"Z\")\n",
    "    ss = species(rn)\n",
    "    xs = filter(x->startswith(string(x), prefix), ss)\n",
    "    return xs\n",
    "end"
   ]
  },
  {
   "cell_type": "code",
   "execution_count": 4,
   "metadata": {},
   "outputs": [
    {
     "data": {
      "text/plain": [
       "crn_dual_node_fwd (generic function with 1 method)"
      ]
     },
     "metadata": {},
     "output_type": "display_data"
    }
   ],
   "source": [
    "function crn_dual_node_fwd(vars; tspan=(0.0, 1.0))\n",
    "    u = _prepare_u(rn_dual_node_fwd, vars)\n",
    "    p = []\n",
    "    @show u\n",
    "    sol = simulate_reaction_network(rn_dual_node_fwd, u, p, tspan=tspan)\n",
    "    # First update the Z species \n",
    "    Zspecies = _filter_rn_species(rn_dual_node_fwd, prefix=\"Z\")\n",
    "    for i in eachindex(Zspecies)\n",
    "        vars[_convert_species2var(Zspecies[i])] = sol[end][i]\n",
    "    end\n",
    "    _print_vars(vars, \"Z\", title=\"CRN | z at t=T |\")\n",
    "    return sol\n",
    "end\n"
   ]
  },
  {
   "cell_type": "code",
   "execution_count": 5,
   "metadata": {
    "scrolled": false
   },
   "outputs": [
    {
     "name": "stdout",
     "output_type": "stream",
     "text": [
      "nneg: 47 npos: 53nneg: 25 npos: 15"
     ]
    },
    {
     "ename": "UndefVarError",
     "evalue": "UndefVarError: `crn_main` not defined",
     "output_type": "error",
     "traceback": [
      "UndefVarError: `crn_main` not defined\n",
      "\n",
      "Stacktrace:\n",
      " [1] neuralcrn(; DIMS::Int64)\n",
      "   @ Main ~/Desktop/PhD/neural-ode/NeuralCRNGen/julia/neuralcrn.ipynb:78\n",
      " [2] neuralcrn()\n",
      "   @ Main ~/Desktop/PhD/neural-ode/NeuralCRNGen/julia/neuralcrn.ipynb:72\n",
      " [3] top-level scope\n",
      "   @ ~/Desktop/PhD/neural-ode/NeuralCRNGen/julia/neuralcrn.ipynb:81"
     ]
    }
   ],
   "source": [
    "# function crn_main(params, train, val; dims=3, EPOCHS=10, LR=0.001, tspan=(0.0, 1.0))\n",
    "#     # Initialize a dictionary to track concentrations of all the species\n",
    "#     vars = Dict();\n",
    "\n",
    "#     # Get all the involved CRNs and add their species to the vars \n",
    "#     crns = [\n",
    "#         rn_dual_node_relu_fwd,\n",
    "#         rn_dual_node_relu_bwd, \n",
    "#         rn_param_update,\n",
    "#         rn_final_layer_update, \n",
    "#         rn_dissipate_reactions,\n",
    "#     ]\n",
    "    \n",
    "#     # Zeroing out all the species\n",
    "#     for crn in crns\n",
    "#         for sp in species(crn)\n",
    "#             get!(vars, _convert_species2var(sp), 0.0)\n",
    "#         end\n",
    "#     end\n",
    "    \n",
    "#     # Assign the values of the parameters\n",
    "#     for param_index in 1:dims^2\n",
    "#         d = _index2Dvar(\"P\", param_index, params[param_index], dims=dims)\n",
    "#         for (k,v) in d\n",
    "#             vars[k] = v\n",
    "#         end\n",
    "#     end\n",
    "\n",
    "#     # Adding time species, although we don't manipulate them now\n",
    "#     vars[\"T0\"] = 0.0\n",
    "#     vars[\"T1\"] = 1.0\n",
    "\n",
    "#     # Assign the weight parameters\n",
    "#     offset = dims^2 + 2  # 2 for t0 and t1\n",
    "#     for param_index in (offset+1):length(params)\n",
    "#         d = _index1Dvar(\"W\", param_index-offset, params[param_index], dims=dims)\n",
    "#         for (k,v) in d\n",
    "#             vars[k] = v\n",
    "#         end\n",
    "#     end\n",
    "\n",
    "#     tr_losses = []\n",
    "#     for epoch in 1:EPOCHS\n",
    "#         tr_epoch_loss = 0.0\n",
    "#         for i in eachindex(train)\n",
    "#             x, y = get_one(train, i)\n",
    "#             x = augment(x, dims-length(x))\n",
    "#             yvec = [y 1-y]\n",
    "#             @show x\n",
    "#             for i in eachindex(x)\n",
    "#                 d = _index1Dvar(\"Z\", i, x[i], dims=dims)\n",
    "#                 for (k,v) in d\n",
    "#                     vars[k] = v\n",
    "#                 end\n",
    "#             end\n",
    "#             # Forward stage\n",
    "#             sol = crn_dual_node_fwd(vars, tspan=tspan)\n",
    "            \n",
    "#             ss = species(rn_dual_node_fwd)\n",
    "#             for si in eachindex(ss)\n",
    "#                 println(si)\n",
    "#                 if startswith(string(ss[si]), \"Z\")\n",
    "#                     plt = plot!(sol[si])\n",
    "#                     png(plt, \"Z.png\")\n",
    "#                 end\n",
    "#             end\n",
    "            \n",
    "#         end\n",
    "#     end\n",
    "# end\n",
    "\n",
    "function neuralcrn(;DIMS=3)\n",
    "    train = create_linearly_separable_dataset(100, linear, threshold=0.0)\n",
    "    val = create_linearly_separable_dataset(40, linear, threshold=0.0)\n",
    "    params_orig = create_node_params(DIMS, t0=0.0, t1=1.0)\n",
    "#     node_main(params_orig, train[1:1], [], EPOCHS=1)\n",
    "#     println(\"===============================\")\n",
    "    crn_main(params_orig, dims=DIMS, train[1:1], [], EPOCHS=1, tspan=(0.0, 1.0))\n",
    "end\n",
    "\n",
    "neuralcrn()"
   ]
  },
  {
   "cell_type": "code",
   "execution_count": null,
   "metadata": {},
   "outputs": [],
   "source": []
  },
  {
   "cell_type": "code",
   "execution_count": 52,
   "metadata": {},
   "outputs": [
    {
     "data": {
      "text/plain": [
       "([1.392623084786063 0.381796215414273 0.4499716209092798; -0.8109635966725603 1.0751084502670774 -0.4477546495006805; 0.018576260076363774 -0.892497163225951 0.5805765293097936], [-1.4110319614130438, -0.12452155962808596, -1.2808320700717801], [-0.9356519809539731, -0.31887501959852027, -1.1269265876586663], -0.17032481805714994, -0.3941344707687343)"
      ]
     },
     "execution_count": 52,
     "metadata": {},
     "output_type": "execute_result"
    }
   ],
   "source": [
    "p = randn(17)\n",
    "params, beta, w, t0, t1 = sequester_params(p, 3)"
   ]
  },
  {
   "cell_type": "code",
   "execution_count": null,
   "metadata": {},
   "outputs": [],
   "source": []
  }
 ],
 "metadata": {
  "kernelspec": {
   "display_name": "Julia 1.10.0",
   "language": "julia",
   "name": "julia-1.10"
  },
  "language_info": {
   "file_extension": ".jl",
   "mimetype": "application/julia",
   "name": "julia",
   "version": "1.10.0"
  }
 },
 "nbformat": 4,
 "nbformat_minor": 2
}
